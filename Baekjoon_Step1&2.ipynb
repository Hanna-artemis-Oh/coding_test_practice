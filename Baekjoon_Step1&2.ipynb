{
  "nbformat": 4,
  "nbformat_minor": 0,
  "metadata": {
    "colab": {
      "name": "Baekjoon_Step1&2.ipynb",
      "provenance": []
    },
    "kernelspec": {
      "name": "python3",
      "display_name": "Python 3"
    },
    "language_info": {
      "name": "python"
    }
  },
  "cells": [
    {
      "cell_type": "markdown",
      "source": [
        "##백준 알고리즘"
      ],
      "metadata": {
        "id": "OZQ_myO3hwmw"
      }
    },
    {
      "cell_type": "markdown",
      "source": [
        "####1단계"
      ],
      "metadata": {
        "id": "SIrg_iqpmxRj"
      }
    },
    {
      "cell_type": "markdown",
      "source": [
        "백준 문제 1000"
      ],
      "metadata": {
        "id": "57lLJViWhqJS"
      }
    },
    {
      "cell_type": "code",
      "execution_count": null,
      "metadata": {
        "colab": {
          "base_uri": "https://localhost:8080/"
        },
        "id": "RA5_2ae4gB-k",
        "outputId": "61221000-357e-4c4a-d1cc-28d8cbf46e71"
      },
      "outputs": [
        {
          "output_type": "stream",
          "name": "stdout",
          "text": [
            "1 2\n",
            "3\n"
          ]
        }
      ],
      "source": [
        "# 내 코드\n",
        "nums = input().split()\n",
        "n = int(nums[0])\n",
        "m = int(nums[1])\n",
        "\n",
        "print(n + m)"
      ]
    },
    {
      "cell_type": "code",
      "source": [
        "# 남 코드\n",
        "A,B = map(int,input().split())\n",
        "print(A+B)"
      ],
      "metadata": {
        "colab": {
          "base_uri": "https://localhost:8080/"
        },
        "id": "gRt4a-Qhg_kN",
        "outputId": "8fc245e3-fbbf-483f-810c-09183452e92d"
      },
      "execution_count": null,
      "outputs": [
        {
          "output_type": "stream",
          "name": "stdout",
          "text": [
            "1 2\n",
            "3\n"
          ]
        }
      ]
    },
    {
      "cell_type": "markdown",
      "source": [
        "백준 문제 1001"
      ],
      "metadata": {
        "id": "ybSAD1IVh8A4"
      }
    },
    {
      "cell_type": "code",
      "source": [
        "# 내 코드\n",
        "a, b = map(int, input().split())\n",
        "print(a-b)"
      ],
      "metadata": {
        "colab": {
          "base_uri": "https://localhost:8080/"
        },
        "id": "l6-DgHXtiM79",
        "outputId": "e58adaee-3348-4d5f-f41b-b9e74c2fc900"
      },
      "execution_count": null,
      "outputs": [
        {
          "output_type": "stream",
          "name": "stdout",
          "text": [
            "5 2\n",
            "3\n"
          ]
        }
      ]
    },
    {
      "cell_type": "markdown",
      "source": [
        "백준 문제 2588"
      ],
      "metadata": {
        "id": "mII-n3KgkPbX"
      }
    },
    {
      "cell_type": "code",
      "source": [
        "# 내 코드\n",
        "\n",
        "n = input()\n",
        "m = input()\n",
        "\n",
        "a = int(n) * int(m[2])\n",
        "b = int(n) * int(m[1])\n",
        "c = int(n) * int(m[0])\n",
        "d = a + b*10 + c*100\n",
        "\n",
        "print(a)\n",
        "print(b)\n",
        "print(c)\n",
        "print(d)"
      ],
      "metadata": {
        "colab": {
          "base_uri": "https://localhost:8080/"
        },
        "id": "9QKxY2FiiZ3S",
        "outputId": "ee2e5417-ab5a-406a-f2e4-ba40bea73f3d"
      },
      "execution_count": null,
      "outputs": [
        {
          "output_type": "stream",
          "name": "stdout",
          "text": [
            "472\n",
            "385\n",
            "2360\n",
            "3776\n",
            "1416\n",
            "181720\n"
          ]
        }
      ]
    },
    {
      "cell_type": "markdown",
      "source": [
        "####2단계"
      ],
      "metadata": {
        "id": "gUf9VHYlmtCi"
      }
    },
    {
      "cell_type": "markdown",
      "source": [
        "백준 문제 1330"
      ],
      "metadata": {
        "id": "PfHEgw0imB8e"
      }
    },
    {
      "cell_type": "code",
      "source": [
        "A,B = map(int,input().split())\n",
        "\n",
        "if A > B:\n",
        "  print('>')\n",
        "elif A < B:\n",
        "  print('<')\n",
        "else:\n",
        "  print('==')"
      ],
      "metadata": {
        "colab": {
          "base_uri": "https://localhost:8080/"
        },
        "id": "KhoDNgeql_cg",
        "outputId": "afc7f84b-97e3-4893-d35a-4e770fd757bc"
      },
      "execution_count": null,
      "outputs": [
        {
          "output_type": "stream",
          "name": "stdout",
          "text": [
            "1 2\n",
            "<\n"
          ]
        }
      ]
    },
    {
      "cell_type": "markdown",
      "source": [
        "백준 문제 9498"
      ],
      "metadata": {
        "id": "77_ZSZONmpSL"
      }
    },
    {
      "cell_type": "code",
      "source": [
        "g = int(input())\n",
        "\n",
        "if g >= 90:\n",
        "  print('A')\n",
        "elif g >= 80:\n",
        "  print('B')\n",
        "elif g >= 70:\n",
        "  print('C')\n",
        "elif g >= 60:\n",
        "  print('D')\n",
        "else:\n",
        "  print('F') "
      ],
      "metadata": {
        "colab": {
          "base_uri": "https://localhost:8080/"
        },
        "id": "dkd4urspmod8",
        "outputId": "e3b33d50-2182-4911-8a75-749a49927dd1"
      },
      "execution_count": null,
      "outputs": [
        {
          "output_type": "stream",
          "name": "stdout",
          "text": [
            "86\n",
            "B\n"
          ]
        }
      ]
    },
    {
      "cell_type": "markdown",
      "source": [
        "백준 문제 2753"
      ],
      "metadata": {
        "id": "8kEjolnwnsLc"
      }
    },
    {
      "cell_type": "code",
      "source": [
        "year = int(input())\n",
        "\n",
        "if (year%4 == 0) and (year%100 > 0) or (year%400 == 0):\n",
        "  print(1)\n",
        "else:\n",
        "  print(0)"
      ],
      "metadata": {
        "colab": {
          "base_uri": "https://localhost:8080/"
        },
        "id": "J93ny43GnzzR",
        "outputId": "a1c41eb6-6e57-45e1-d476-1d59272361ad"
      },
      "execution_count": null,
      "outputs": [
        {
          "output_type": "stream",
          "name": "stdout",
          "text": [
            "1999\n",
            "0\n"
          ]
        }
      ]
    },
    {
      "cell_type": "markdown",
      "source": [
        "백준 문제 14681"
      ],
      "metadata": {
        "id": "dtr4nUrtotix"
      }
    },
    {
      "cell_type": "code",
      "source": [
        "x = int(input())\n",
        "y = int(input())\n",
        "\n",
        "if (x > 0) and (y > 0):\n",
        "  print(1)\n",
        "elif (x < 0) and (y > 0):\n",
        "  print(2)\n",
        "elif (x < 0) and (y < 0):\n",
        "  print(3)\n",
        "else:\n",
        "  print(4)"
      ],
      "metadata": {
        "colab": {
          "base_uri": "https://localhost:8080/"
        },
        "id": "UEMQ6d-7oY7D",
        "outputId": "b712eea8-8998-4604-ec22-b60238daa700"
      },
      "execution_count": null,
      "outputs": [
        {
          "output_type": "stream",
          "name": "stdout",
          "text": [
            "12\n",
            "5\n",
            "1\n"
          ]
        }
      ]
    },
    {
      "cell_type": "markdown",
      "source": [
        "백준 문제 2884"
      ],
      "metadata": {
        "id": "3vrJLsYVpq93"
      }
    },
    {
      "cell_type": "code",
      "source": [
        "H, M = map(int,input().split())\n",
        "\n",
        "if M >= 45:\n",
        "  M -= 45\n",
        "else:\n",
        "  M = 60 - 45 + M\n",
        "  if H > 0:\n",
        "    H -= 1\n",
        "  else:\n",
        "    H = 23\n",
        "\n",
        "print(H, M)"
      ],
      "metadata": {
        "colab": {
          "base_uri": "https://localhost:8080/"
        },
        "id": "bnew-i1_ppSl",
        "outputId": "b4402f48-801e-485a-be3a-cb79e083a810"
      },
      "execution_count": null,
      "outputs": [
        {
          "output_type": "stream",
          "name": "stdout",
          "text": [
            "23 40\n",
            "22 55\n"
          ]
        }
      ]
    },
    {
      "cell_type": "markdown",
      "source": [
        "백준 문제 2525"
      ],
      "metadata": {
        "id": "ylxWfEGEsQV0"
      }
    },
    {
      "cell_type": "code",
      "source": [
        "A, B = map(int,input().split())\n",
        "C = int(input())\n",
        "\n",
        "B += C\n",
        "if B >= 60:\n",
        "  A += B // 60\n",
        "  B = B % 60\n",
        "  if A > 23:\n",
        "    A -= 24\n",
        "\n",
        "print(A, B)"
      ],
      "metadata": {
        "colab": {
          "base_uri": "https://localhost:8080/"
        },
        "id": "UCU3o5O6r-Tm",
        "outputId": "1d603ab9-1541-43ee-9664-345772e400c6"
      },
      "execution_count": 14,
      "outputs": [
        {
          "output_type": "stream",
          "name": "stdout",
          "text": [
            "23 48\n",
            "25\n",
            "0 13\n"
          ]
        }
      ]
    },
    {
      "cell_type": "markdown",
      "source": [
        "백준 문제 2480"
      ],
      "metadata": {
        "id": "R3Sy1WnAmKdl"
      }
    },
    {
      "cell_type": "code",
      "source": [
        "A, B, C = map(int,input().split())\n",
        "\n",
        "coins = [A, B, C]\n",
        "coins = sorted(coins)\n",
        "A = coins[0]; B = coins[1]; C = coins[2]\n",
        "\n",
        "if (A == B) and (B == C):\n",
        "  reward = 10000 + A*1000\n",
        "elif (A == B):\n",
        "  reward = 1000 + A*100\n",
        "elif (B == C):\n",
        "  reward = 1000 + B*100\n",
        "else:\n",
        "  reward = C*100\n",
        "print(reward)"
      ],
      "metadata": {
        "id": "59pQP28_gzFJ",
        "colab": {
          "base_uri": "https://localhost:8080/"
        },
        "outputId": "77da8703-8c9b-41d1-c578-4fa9e8a8c31e"
      },
      "execution_count": 24,
      "outputs": [
        {
          "output_type": "stream",
          "name": "stdout",
          "text": [
            "6 2 5\n",
            "600\n"
          ]
        }
      ]
    },
    {
      "cell_type": "code",
      "source": [
        ""
      ],
      "metadata": {
        "id": "lRMSry6FpoAZ"
      },
      "execution_count": null,
      "outputs": []
    }
  ]
}